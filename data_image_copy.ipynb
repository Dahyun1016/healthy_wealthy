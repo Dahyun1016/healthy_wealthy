import os
import shutil
import random
import yaml

# yaml 파일 경로 (이미 업로드된 yaml 파일)
yaml_file = "/content/data.yaml"

# 원본 이미지 경로 (구글 드라이브의 데이터셋 경로)
source_dir = "/content/drive/MyDrive/drug_images"  # 실제 이미지가 있는 폴더

# 복사할 경로
train_dir = "/content/datasets/images/train"
val_dir = "/content/datasets/images/val"

# 디렉토리 생성
os.makedirs(train_dir, exist_ok=True)
os.makedirs(val_dir, exist_ok=True)

# yaml 파일에서 클래스 정보 불러오기
with open(yaml_file, 'r') as f:
    data = yaml.safe_load(f)
    class_names = data['names']  # 클래스 이름들을 가져옴

# 클래스 이름에서 숫자나 특수 기호를 제외하고 필터링 (클래스 이름의 알파벳 부분만 비교)
filtered_class_names = [''.join(filter(str.isalpha, class_name)) for class_name in class_names.values()]

# 모든 이미지 파일 리스트 가져오기
image_files = [f for f in os.listdir(source_dir) if f.endswith('.jpg')]

# 클래스 이름이 이미지 이름에 포함된 경우만 필터링
filtered_files = []
for image_file in image_files:
    for class_name in filtered_class_names:
        # 이미지 파일 이름에서도 숫자와 특수 기호를 제외하고 비교
        image_name_alpha = ''.join(filter(str.isalpha, os.path.splitext(image_file)[0]))
        if class_name in image_name_alpha:
            filtered_files.append(image_file)
            break  # 매칭되면 해당 파일을 리스트에 추가하고 나머지 확인을 중단

# 필터링된 파일을 8:2로 나누기
random.shuffle(filtered_files)
split_point = int(len(filtered_files) * 0.8)
train_files = filtered_files[:split_point]
val_files = filtered_files[split_point:]

# 훈련 이미지 복사
for file in train_files:
    shutil.copy(os.path.join(source_dir, file), train_dir)

# 검증 이미지 복사
for file in val_files:
    shutil.copy(os.path.join(source_dir, file), val_dir)

print(f"훈련 이미지: {len(train_files)}개, 검증 이미지: {len(val_files)}개")
